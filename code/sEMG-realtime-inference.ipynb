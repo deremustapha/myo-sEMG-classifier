{
 "cells": [
  {
   "cell_type": "code",
   "execution_count": 1,
   "id": "e5e970a9",
   "metadata": {},
   "outputs": [],
   "source": [
    "import tensorflow as tf\n",
    "from myDataUtils import *\n",
    "import numpy as np\n",
    "import matplotlib.pyplot"
   ]
  },
  {
   "cell_type": "code",
   "execution_count": 2,
   "id": "8dfbdc3d",
   "metadata": {
    "scrolled": true
   },
   "outputs": [],
   "source": [
    "abs_path  = \"D:\\\\AI-Workspace\\\\sEMG_Classification\\\\Myodata\\\\data\\\\PreTrainingDataset\"\n",
    "male_subject = 12\n",
    "total_female_subject = 10\n",
    "total_exercise = 28"
   ]
  },
  {
   "cell_type": "code",
   "execution_count": 3,
   "id": "e04244e5",
   "metadata": {},
   "outputs": [
    {
     "ename": "NameError",
     "evalue": "name 'get_data' is not defined",
     "output_type": "error",
     "traceback": [
      "\u001b[1;31m---------------------------------------------------------------------------\u001b[0m",
      "\u001b[1;31mNameError\u001b[0m                                 Traceback (most recent call last)",
      "\u001b[1;32m~\\AppData\\Local\\Temp/ipykernel_27708/358586275.py\u001b[0m in \u001b[0;36m<module>\u001b[1;34m\u001b[0m\n\u001b[1;32m----> 1\u001b[1;33m \u001b[0mfeatures\u001b[0m\u001b[1;33m,\u001b[0m \u001b[0mlabels\u001b[0m \u001b[1;33m=\u001b[0m \u001b[0mget_data\u001b[0m\u001b[1;33m(\u001b[0m\u001b[0mabs_path\u001b[0m\u001b[1;33m,\u001b[0m \u001b[0mmale_subject\u001b[0m\u001b[1;33m,\u001b[0m \u001b[0mtotal_female_subject\u001b[0m\u001b[1;33m,\u001b[0m \u001b[0mtotal_exercise\u001b[0m\u001b[1;33m)\u001b[0m\u001b[1;33m\u001b[0m\u001b[1;33m\u001b[0m\u001b[0m\n\u001b[0m",
      "\u001b[1;31mNameError\u001b[0m: name 'get_data' is not defined"
     ]
    }
   ],
   "source": [
    "features, labels = get_data(abs_path, male_subject, total_female_subject, total_exercise)"
   ]
  },
  {
   "cell_type": "code",
   "execution_count": null,
   "id": "9f7f34fa",
   "metadata": {},
   "outputs": [],
   "source": [
    "path"
   ]
  },
  {
   "cell_type": "code",
   "execution_count": null,
   "id": "0f2c7707",
   "metadata": {},
   "outputs": [],
   "source": [
    "datasets = [data, label]\n",
    "\n",
    "np.save(path, datasets)"
   ]
  },
  {
   "cell_type": "code",
   "execution_count": null,
   "id": "ae06a557",
   "metadata": {},
   "outputs": [],
   "source": [
    "datasets_training = np.load(path)\n",
    "training_data, training_label = datasets_training"
   ]
  }
 ],
 "metadata": {
  "kernelspec": {
   "display_name": "ml_tf_ven",
   "language": "python",
   "name": "ml_tf_ven"
  },
  "language_info": {
   "codemirror_mode": {
    "name": "ipython",
    "version": 3
   },
   "file_extension": ".py",
   "mimetype": "text/x-python",
   "name": "python",
   "nbconvert_exporter": "python",
   "pygments_lexer": "ipython3",
   "version": "3.8.11"
  }
 },
 "nbformat": 4,
 "nbformat_minor": 5
}
