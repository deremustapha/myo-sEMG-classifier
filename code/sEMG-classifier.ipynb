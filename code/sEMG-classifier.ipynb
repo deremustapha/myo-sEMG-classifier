{
 "cells": [
  {
   "cell_type": "raw",
   "id": "23edd191",
   "metadata": {},
   "source": [
    "sEMG-Net is a quantized model that is expected to be depolyed on Ultra96-v2 The data uses Myodata for experiment three\n",
    "\n",
    "Raw data importation\n",
    "Data preparation -- Normalization, Extending to size acceptable by DPU\n",
    "Training --> This can be done with tensorflow, pyTorch or Caffe\n",
    "Post training quantization --> This is done to change precision from float32 to int8 withput accuracy loss\n",
    "Compiling --> Complie to create .xmodel extension that DPU expects"
   ]
  },
  {
   "cell_type": "markdown",
   "id": "448e9c53",
   "metadata": {},
   "source": [
    "1. Data and relevant library import"
   ]
  },
  {
   "cell_type": "code",
   "execution_count": 1,
   "id": "5283fb7b",
   "metadata": {},
   "outputs": [],
   "source": [
    "import tensorflow as tf\n",
    "import numpy as np\n",
    "import matplotlib.pyplot as plt\n",
    "from myoDataUtils import * \n",
    "from tensorflow_model_optimization.quantization.keras import vitis_quantize"
   ]
  },
  {
   "cell_type": "code",
   "execution_count": 2,
   "id": "352b6a0d",
   "metadata": {},
   "outputs": [],
   "source": [
    "abs_path  = \"/workspace/sEMG/MyoArmbandDataset/data/PreTrainingDataset\"\n",
    "male_subject = 12\n",
    "total_female_subject = 10\n",
    "total_exercise = 28"
   ]
  },
  {
   "cell_type": "code",
   "execution_count": 3,
   "id": "5cd8cbb4",
   "metadata": {},
   "outputs": [],
   "source": [
    "features, labels = get_data(abs_path, male_subject, total_female_subject, total_exercise)"
   ]
  },
  {
   "cell_type": "markdown",
   "id": "3d35b88a",
   "metadata": {},
   "source": [
    "2. Data Preparation"
   ]
  },
  {
   "cell_type": "code",
   "execution_count": 4,
   "id": "0624ec32",
   "metadata": {
    "scrolled": true
   },
   "outputs": [
    {
     "name": "stdout",
     "output_type": "stream",
     "text": [
      "Feature Shape After Expansion is (12934, 8, 52, 1)\n",
      "Label shape (12934, 1)\n"
     ]
    }
   ],
   "source": [
    "features = np.expand_dims(features, axis=3)\n",
    "print(\"Feature Shape After Expansion is {}\".format(features.shape))\n",
    "print(\"Label shape {}\".format(labels.shape))"
   ]
  },
  {
   "cell_type": "code",
   "execution_count": 5,
   "id": "65a2c7a5",
   "metadata": {},
   "outputs": [],
   "source": [
    "# This trick work to avoid Nan loss. I guess a problem from my hardware :)\n",
    "\n",
    "X_train_tensor = tf.constant(features, dtype=tf.float32)\n",
    "y_train_tensor = tf.constant(labels, dtype=tf.uint8)"
   ]
  },
  {
   "cell_type": "code",
   "execution_count": 6,
   "id": "cfb29a05",
   "metadata": {
    "scrolled": true
   },
   "outputs": [
    {
     "name": "stdout",
     "output_type": "stream",
     "text": [
      "Model: \"sEMG-classfier\"\n",
      "_________________________________________________________________\n",
      "Layer (type)                 Output Shape              Param #   \n",
      "=================================================================\n",
      "input_1 (InputLayer)         [(None, 8, 52, 1)]        0         \n",
      "_________________________________________________________________\n",
      "conv2d (Conv2D)              (None, 6, 50, 6)          60        \n",
      "_________________________________________________________________\n",
      "conv2d_1 (Conv2D)            (None, 4, 48, 32)         1760      \n",
      "_________________________________________________________________\n",
      "conv2d_2 (Conv2D)            (None, 2, 46, 16)         4624      \n",
      "_________________________________________________________________\n",
      "flatten (Flatten)            (None, 1472)              0         \n",
      "_________________________________________________________________\n",
      "dense (Dense)                (None, 1500)              2209500   \n",
      "_________________________________________________________________\n",
      "dense_1 (Dense)              (None, 151)               226651    \n",
      "_________________________________________________________________\n",
      "dense_2 (Dense)              (None, 17)                2584      \n",
      "_________________________________________________________________\n",
      "dense_3 (Dense)              (None, 7)                 126       \n",
      "=================================================================\n",
      "Total params: 2,445,305\n",
      "Trainable params: 2,445,305\n",
      "Non-trainable params: 0\n",
      "_________________________________________________________________\n"
     ]
    }
   ],
   "source": [
    "inputs = tf.keras.Input(shape=(8,52,1))\n",
    "x = tf.keras.layers.Conv2D(6, 3, activation=\"relu\", input_shape=(8,52,1))(inputs)\n",
    "x = tf.keras.layers.Conv2D(32, 3, activation=\"relu\")(x)\n",
    "x = tf.keras.layers.Conv2D(16, 3, activation=\"relu\")(x)\n",
    "x = tf.keras.layers.Flatten()(x)\n",
    "x = tf.keras.layers.Dense(1500, activation='relu')(x)\n",
    "x = tf.keras.layers.Dense(151, activation='relu')(x)\n",
    "x = tf.keras.layers.Dense(17, activation='relu')(x)\n",
    "outputs = tf.keras.layers.Dense(7, activation='softmax')(x)\n",
    "\n",
    "model = tf.keras.Model(inputs=inputs, outputs=outputs, name=\"sEMG-classfier\")\n",
    "model.summary()"
   ]
  },
  {
   "cell_type": "code",
   "execution_count": 7,
   "id": "9f33047e",
   "metadata": {},
   "outputs": [],
   "source": [
    "lr = 0.001\n",
    "opt = tf.keras.optimizers.Adam(learning_rate=lr, epsilon=1e-07, clipnorm=1)\n",
    "ls = 'sparse_categorical_crossentropy'\n",
    "mtr = 'accuracy'\n",
    "n_batches = 32\n",
    "n_epochs = 10\n",
    "model.compile(optimizer=opt, loss=ls, metrics=mtr)"
   ]
  },
  {
   "cell_type": "code",
   "execution_count": 8,
   "id": "5f0b440c",
   "metadata": {
    "scrolled": true
   },
   "outputs": [
    {
     "name": "stdout",
     "output_type": "stream",
     "text": [
      "Epoch 1/10\n",
      "324/324 [==============================] - 6s 19ms/step - loss: 1.0272 - accuracy: 0.6030 - val_loss: 0.4028 - val_accuracy: 0.8612\n",
      "Epoch 2/10\n",
      "324/324 [==============================] - 6s 18ms/step - loss: 0.3457 - accuracy: 0.8776 - val_loss: 0.2489 - val_accuracy: 0.9119\n",
      "Epoch 3/10\n",
      "324/324 [==============================] - 6s 19ms/step - loss: 0.1935 - accuracy: 0.9316 - val_loss: 0.1564 - val_accuracy: 0.9436\n",
      "Epoch 4/10\n",
      "324/324 [==============================] - 6s 19ms/step - loss: 0.1359 - accuracy: 0.9527 - val_loss: 0.0744 - val_accuracy: 0.9741\n",
      "Epoch 5/10\n",
      "324/324 [==============================] - 6s 19ms/step - loss: 0.0973 - accuracy: 0.9672 - val_loss: 0.0502 - val_accuracy: 0.9822\n",
      "Epoch 6/10\n",
      "324/324 [==============================] - 6s 19ms/step - loss: 0.0564 - accuracy: 0.9789 - val_loss: 0.0496 - val_accuracy: 0.9842\n",
      "Epoch 7/10\n",
      "324/324 [==============================] - 6s 19ms/step - loss: 0.0571 - accuracy: 0.9829 - val_loss: 0.0781 - val_accuracy: 0.9791\n",
      "Epoch 8/10\n",
      "324/324 [==============================] - 6s 19ms/step - loss: 0.0306 - accuracy: 0.9911 - val_loss: 0.0131 - val_accuracy: 0.9957\n",
      "Epoch 9/10\n",
      "324/324 [==============================] - 6s 20ms/step - loss: 0.0448 - accuracy: 0.9871 - val_loss: 0.0135 - val_accuracy: 0.9950\n",
      "Epoch 10/10\n",
      "324/324 [==============================] - 6s 19ms/step - loss: 0.0498 - accuracy: 0.9873 - val_loss: 0.0252 - val_accuracy: 0.9934\n"
     ]
    }
   ],
   "source": [
    "history = model.fit(X_train_tensor, y_train_tensor, validation_split=0.2, batch_size=n_batches, epochs= n_epochs)"
   ]
  },
  {
   "cell_type": "code",
   "execution_count": 11,
   "id": "d02678cd",
   "metadata": {
    "scrolled": true
   },
   "outputs": [
    {
     "data": {
      "image/png": "[encoded data removed]",
      "text/plain": [
       "<Figure size 576x576 with 2 Axes>"
      ]
     },
     "metadata": {
      "needs_background": "light"
     },
     "output_type": "display_data"
    }
   ],
   "source": [
    "validation_loss = history.history['val_loss']\n",
    "training_loss = history.history['loss']\n",
    "\n",
    "validation_accuracy = history.history['accuracy']\n",
    "training_accuracy = history.history['val_accuracy']\n",
    "\n",
    "epoch_range = range(n_epochs)\n",
    "plt.figure(figsize=(8,8))\n",
    "\n",
    "plt.subplot(1, 2, 1)\n",
    "plt.plot(epoch_range, training_accuracy, label = \"Training Accuracy\")\n",
    "plt.plot(epoch_range, validation_accuracy, label = \"Validation Accuracy\")\n",
    "plt.legend(loc=\"lower right\")\n",
    "plt.title(\"Training and Validation Accuracy\")\n",
    "\n",
    "plt.subplot(1, 2, 2)\n",
    "plt.plot(epoch_range, training_loss, label = \"Training Loss\")\n",
    "plt.plot(epoch_range, validation_loss, label = \"Validation Loss\")\n",
    "plt.legend(loc=\"upper right\")\n",
    "plt.title(\"Training and Validation Loss\")\n",
    "plt.show()"
   ]
  },
  {
   "cell_type": "code",
   "execution_count": 12,
   "id": "f034468f",
   "metadata": {},
   "outputs": [],
   "source": [
    "saved_model = \"sEMG-classifier.h5\" \n",
    "model.save(saved_model)"
   ]
  },
  {
   "cell_type": "markdown",
   "id": "7d7fafe9",
   "metadata": {},
   "source": [
    "4. Quantization"
   ]
  },
  {
   "cell_type": "code",
   "execution_count": 13,
   "id": "a2c78b0f",
   "metadata": {},
   "outputs": [],
   "source": [
    "calibration_dataset = X_train_tensor[0:1000] # Note a minumum of 100 is needed and a maximum of 1000\n",
    "evaluation_dataset = X_train_tensor[1000:]\n",
    "evaluation_dataset_gnd = y_train_tensor[1000:]"
   ]
  },
  {
   "cell_type": "code",
   "execution_count": 14,
   "id": "22f6938c",
   "metadata": {
    "scrolled": true
   },
   "outputs": [
    {
     "name": "stdout",
     "output_type": "stream",
     "text": [
      "[INFO] Start CrossLayerEqualization...\n",
      "10/10 [==============================] - 1s 56ms/step\n",
      "[INFO] CrossLayerEqualization Done.\n",
      "[INFO] Start Quantize Calibration...\n",
      "20/20 [==============================] - 2s 80ms/step\n",
      "[INFO] Quantize Calibration Done.\n",
      "[INFO] Start Generating Quantized Model...\n",
      "[Warning] Skip quantize pos adjustment for layer quant_dense, its quantize pos is [i=None, w=9.0, b=8.0, o=2.0]\n",
      "[Warning] Skip quantize pos adjustment for layer quant_dense_1, its quantize pos is [i=2.0, w=9.0, b=9.0, o=0.0]\n",
      "[Warning] Skip quantize pos adjustment for layer quant_dense_2, its quantize pos is [i=0.0, w=8.0, b=9.0, o=0.0]\n",
      "[Warning] Skip quantize pos adjustment for layer quant_dense_3, its quantize pos is [i=0.0, w=7.0, b=8.0, o=0.0]\n",
      "[INFO] Generating Quantized Model Done.\n"
     ]
    }
   ],
   "source": [
    "saved_float32_model = tf.keras.models.load_model(saved_model)\n",
    "ptq_quantizer = vitis_quantize.VitisQuantizer(saved_float32_model)\n",
    "ptq_quantized_model = ptq_quantizer.quantize_model(calib_dataset=calibration_dataset)"
   ]
  },
  {
   "cell_type": "code",
   "execution_count": 15,
   "id": "f6530d2c",
   "metadata": {
    "scrolled": true
   },
   "outputs": [
    {
     "name": "stdout",
     "output_type": "stream",
     "text": [
      "373/373 [==============================] - 4s 9ms/step - loss: 0.0249 - accuracy: 0.9929\n"
     ]
    },
    {
     "data": {
      "text/plain": [
       "[0.024885525926947594, 0.9928774833679199]"
      ]
     },
     "execution_count": 15,
     "metadata": {},
     "output_type": "execute_result"
    }
   ],
   "source": [
    "# Evalauting Post training quantization\n",
    "\n",
    "ptq_quantized_model.compile(loss=ls, metrics=mtr)\n",
    "ptq_quantized_model.evaluate(evaluation_dataset, evaluation_dataset_gnd)"
   ]
  },
  {
   "cell_type": "code",
   "execution_count": 16,
   "id": "34d510a3",
   "metadata": {},
   "outputs": [],
   "source": [
    "# Saving post training quantization\n",
    "\n",
    "quantized_model = \"qunatized_sEMG_classifier.h5\"\n",
    "ptq_quantized_model.save(quantized_model)"
   ]
  },
  {
   "cell_type": "code",
   "execution_count": 17,
   "id": "46e026b6",
   "metadata": {},
   "outputs": [
    {
     "name": "stdout",
     "output_type": "stream",
     "text": [
      "**************************************************\n",
      "* VITIS_AI Compilation - Xilinx Inc.\n",
      "**************************************************\n",
      "[INFO] Namespace(inputs_shape=None, layout='NHWC', model_files=['./qunatized_sEMG_classifier.h5'], model_type='tensorflow2', out_filename='./model_org.xmodel', proto=None)\n",
      "[INFO] tensorflow2 model: qunatized_sEMG_classifier.h5\n",
      "/opt/vitis_ai/conda/envs/vitis-ai-tensorflow2/lib/python3.7/site-packages/xnnc/translator/tensorflow_translator.py:1809: H5pyDeprecationWarning: dataset.value has been deprecated. Use dataset[()] instead.\n",
      "  value = param.get(group).get(ds).value\n",
      "[INFO] parse raw model     :100%|█| 10/10 [00:00<00:00, 12725.44it/s]           \n",
      "[INFO] infer shape (NHWC)  :100%|█| 32/32 [00:00<00:00, 1981.78it/s]            \n",
      "[OPT] No optimization method available for xir-level optimization.\n",
      "[INFO] generate xmodel     :100%|█| 32/32 [00:00<00:00, 216.19it/s]             \n",
      "[INFO] generate xmodel: /workspace/sEMG/MyoArmbandDataset/model_org.xmodel\n",
      "[UNILOG][INFO] The compiler log will be dumped at \"/tmp/vitis-ai-user/log/xcompiler-20220223-225653-1122\"\n",
      "[UNILOG][INFO] Compile mode: dpu\n",
      "[UNILOG][INFO] Debug mode: function\n",
      "[UNILOG][INFO] Target architecture: DPUCZDX8G_ISA0_B2304_MAX_BG2\n",
      "[UNILOG][INFO] Graph name: sEMG-classfier, with op num: 52\n",
      "[UNILOG][INFO] Begin to compile...\n",
      "[UNILOG][INFO] Total device subgraph number 3, DPU subgraph number 1\n",
      "[UNILOG][INFO] Compile done.\n",
      "[UNILOG][INFO] The meta json is saved to \"/workspace/sEMG/MyoArmbandDataset/./meta.json\"\n",
      "[UNILOG][INFO] The compiled xmodel is saved to \"/workspace/sEMG/MyoArmbandDataset/./model.xmodel\"\n",
      "[UNILOG][INFO] The compiled xmodel's md5sum is 01dcde5e58b2c3853340157df3139fbe, and been saved to \"/workspace/sEMG/MyoArmbandDataset/./md5sum.txt\"\n"
     ]
    }
   ],
   "source": [
    "!vai_c_tensorflow2 \\\n",
    "    --model ./qunatized_sEMG_classifier.h5 \\\n",
    "    --arch ./arch.json \\\n",
    "    --output_dir . \\\n",
    "    --net_name model"
   ]
  }
 ],
 "metadata": {
  "kernelspec": {
   "display_name": "Python 3",
   "language": "python",
   "name": "python3"
  },
  "language_info": {
   "codemirror_mode": {
    "name": "ipython",
    "version": 3
   },
   "file_extension": ".py",
   "mimetype": "text/x-python",
   "name": "python",
   "nbconvert_exporter": "python",
   "pygments_lexer": "ipython3",
   "version": "3.7.10"
  }
 },
 "nbformat": 4,
 "nbformat_minor": 5
}
