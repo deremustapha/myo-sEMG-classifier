{
 "cells": [
  {
   "cell_type": "raw",
   "id": "a0fbfea1",
   "metadata": {},
   "source": [
    "This notebook is running on the Ultra96-v2.\n",
    "The essence is to check performance of the depolyed model and also use the output of the classifer\n",
    "to control a prosthetic device.\n",
    "\n",
    "1. Importing relevant libs --> Note acquire_data and pyoyo are needed to interface the myoband to with the Ultra96\n",
    "2. Loading DPU overlay and then the compiled model"
   ]
  },
  {
   "cell_type": "code",
   "execution_count": null,
   "id": "54f86c9b",
   "metadata": {},
   "outputs": [],
   "source": [
    "# Importing basic python libraries\n",
    "\n",
    "import os \n",
    "import time\n",
    "import numpy as np\n",
    "import math\n",
    "import threading\n",
    "import sys\n",
    "import time\n",
    "# Importing Myoware libraries \n",
    "from queue import Queue\n",
    "from serial import Serial\n",
    "from acquire_data import *\n",
    "from filter import *\n",
    "from normalization import *\n",
    "from pyomyo import Myo, emg_mode\n",
    "from pynq_dpu import DpuOverlay\n",
    "\n",
    "com_port = '/dev/ttyUSB0'  # Myoband dongle was connected to Ultra96-v2 on this port\n",
    "arduino = Serial(com_port, 115200, timeout=2)"
   ]
  },
  {
   "cell_type": "code",
   "execution_count": null,
   "id": "8d69a77e",
   "metadata": {},
   "outputs": [],
   "source": [
    "# Importing DPU Overlay blocks and .xmodel\n",
    "overlay = DpuOverlay(\"dpu.bit\")\n",
    "overlay.load_model(\"model.xmodel\")"
   ]
  },
  {
   "cell_type": "code",
   "execution_count": null,
   "id": "4ab719e6",
   "metadata": {},
   "outputs": [],
   "source": [
    "def write_prediction(x):\n",
    "    \n",
    "    X = str(x)\n",
    "    arduino.write(bytes(X, 'utf-8'))\n",
    "    \n",
    "def calculate_softmax(data):\n",
    "    result = np.exp(data)\n",
    "    return result"
   ]
  },
  {
   "cell_type": "code",
   "execution_count": null,
   "id": "f8b278da",
   "metadata": {},
   "outputs": [],
   "source": [
    "while True:\n",
    "    \n",
    "    data = get_data()\n",
    "    data = data[0:8,1:53] # Get the recent 52 samples\n",
    "    \n"
    "    \n",
    "    data = artifact_removal(data)\n",
    "    # data = normalize(data)\n",
    "    data = np.float32(data) # Convert to float \n",
    "    data = np.expand_dims(data, axis=2) # Expand dimensions to (8, 52, 1)\n",
    "        \n",
    "    dpu = overlay.runner\n",
    "\n",
    "    inputTensors = dpu.get_input_tensors()\n",
    "    outputTensors = dpu.get_output_tensors()\n",
    "\n",
    "    shapeIn = tuple(inputTensors[0].dims)\n",
    "    shapeOut = tuple(outputTensors[0].dims)\n",
    "    outputSize = int(outputTensors[0].get_data_size() / shapeIn[0])\n",
    "\n",
    "    softmax = np.empty(outputSize)\n",
    "    \n",
    "    # Buffer defination to store input and output data. They will be reused during multiple runs.\n",
    "\n",
    "    output_data = [np.empty(shapeOut, dtype=np.float32, order=\"C\")]\n",
    "    input_data = [np.empty(shapeIn, dtype=np.float32, order=\"C\")]\n",
    "    emg = input_data[0]\n",
    "    \n",
    "    # Store data in buffer\n",
    "    emg[0, ...] = data\n",
    "    \n",
    "    job_id = dpu.execute_async(input_data, output_data)\n",
    "    dpu.wait(job_id)\n",
    "    temp = [j.reshape(1, outputSize) for j in output_data]\n",
    "    softmax = calculate_softmax(temp[0][0])\n",
    "    prediction = softmax.argmax()\n",
    "    \n",
    "    write_prediction(prediction)\n",
    "    print(prediction)"
   ]
  },
  {
   "cell_type": "code",
   "execution_count": null,
   "id": "b4b4c36e",
   "metadata": {},
   "outputs": [],
   "source": [
    "del overlay\n",
    "del dpu"
   ]
  }
 ],
 "metadata": {
  "kernelspec": {
   "display_name": "Python 3",
   "language": "python",
   "name": "python3"
  },
  "language_info": {
   "codemirror_mode": {
    "name": "ipython",
    "version": 3
   },
   "file_extension": ".py",
   "mimetype": "text/x-python",
   "name": "python",
   "nbconvert_exporter": "python",
   "pygments_lexer": "ipython3",
   "version": "3.8.2"
  }
 },
 "nbformat": 4,
 "nbformat_minor": 5
}
