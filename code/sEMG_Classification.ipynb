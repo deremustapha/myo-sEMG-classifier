{
 "cells": [
  {
   "cell_type": "code",
   "execution_count": 1,
   "id": "1a1c7558",
   "metadata": {},
   "outputs": [],
   "source": [
    "import tensorflow as tf\n",
    "import numpy as np\n",
    "import matplotlib.pyplot as plt\n",
    "from bmis_emg_utils import * \n",
    "from tensorflow_model_optimization.quantization.keras import vitis_quantize"
   ]
  },
  {
   "cell_type": "code",
   "execution_count": 2,
   "id": "ba30c248",
   "metadata": {},
   "outputs": [
    {
     "name": "stdout",
     "output_type": "stream",
     "text": [
      "The total data shape is (8, 199068) and label is (1, 199068)\n"
     ]
    }
   ],
   "source": [
    "subjects = 3\n",
    "data, label = get_emg_data(subjects)\n",
    "print('The total data shape is {} and label is {}'.format(data.shape, label.shape))"
   ]
  },
  {
   "cell_type": "code",
   "execution_count": 3,
   "id": "e46cc043",
   "metadata": {},
   "outputs": [
    {
     "name": "stdout",
     "output_type": "stream",
     "text": [
      "The total Input data shape after windowing is (49757, 8, 40) and label is (49757, 1)\n"
     ]
    }
   ],
   "source": [
    "X, y = window_with_overlap(data, label)\n",
    "print('The total Input data shape after windowing is {} and label is {}'.format(X.shape, y.shape))"
   ]
  },
  {
   "cell_type": "code",
   "execution_count": 4,
   "id": "25056dd3",
   "metadata": {},
   "outputs": [
    {
     "name": "stdout",
     "output_type": "stream",
     "text": [
      "Training Set is(44781, 8, 40) Test Set (4976, 8, 40)\n"
     ]
    }
   ],
   "source": [
    "XX_train, yy_train, XX_test, yy_test = spilt_data(X, y, ratio=0.1)\n",
    "print('Training Set is{} Test Set {}'.format(XX_train.shape, XX_test.shape))"
   ]
  },
  {
   "cell_type": "code",
   "execution_count": 5,
   "id": "afffa9d0",
   "metadata": {},
   "outputs": [
    {
     "name": "stdout",
     "output_type": "stream",
     "text": [
      "Expanded Dimension are (44781, 8, 40, 1)\n",
      "(8, 40, 1)\n"
     ]
    }
   ],
   "source": [
    "# Expanding the input feature shape\n",
    "\n",
    "XX_train = np.expand_dims(XX_train, axis=3)\n",
    "XX_test = np.expand_dims(XX_test, axis=3)\n",
    "print('Expanded Dimension are {}'.format(XX_train.shape))\n",
    "input_size = XX_train.shape[1:]\n",
    "print(input_size)"
   ]
  },
  {
   "cell_type": "code",
   "execution_count": 6,
   "id": "3b5128c0",
   "metadata": {},
   "outputs": [
    {
     "name": "stdout",
     "output_type": "stream",
     "text": [
      "Model: \"sEMG-classfier\"\n",
      "_________________________________________________________________\n",
      "Layer (type)                 Output Shape              Param #   \n",
      "=================================================================\n",
      "input_1 (InputLayer)         [(None, 8, 40, 1)]        0         \n",
      "_________________________________________________________________\n",
      "conv2d (Conv2D)              (None, 6, 38, 6)          60        \n",
      "_________________________________________________________________\n",
      "conv2d_1 (Conv2D)            (None, 4, 36, 32)         1760      \n",
      "_________________________________________________________________\n",
      "conv2d_2 (Conv2D)            (None, 2, 34, 16)         4624      \n",
      "_________________________________________________________________\n",
      "flatten (Flatten)            (None, 1088)              0         \n",
      "_________________________________________________________________\n",
      "dense (Dense)                (None, 1500)              1633500   \n",
      "_________________________________________________________________\n",
      "dense_1 (Dense)              (None, 151)               226651    \n",
      "_________________________________________________________________\n",
      "dense_2 (Dense)              (None, 17)                2584      \n",
      "_________________________________________________________________\n",
      "dense_3 (Dense)              (None, 7)                 126       \n",
      "=================================================================\n",
      "Total params: 1,869,305\n",
      "Trainable params: 1,869,305\n",
      "Non-trainable params: 0\n",
      "_________________________________________________________________\n"
     ]
    }
   ],
   "source": [
    "inputs = tf.keras.Input(shape=input_size)\n",
    "x = tf.keras.layers.Conv2D(6, 3, activation=\"relu\", input_shape=input_size)(inputs)\n",
    "x = tf.keras.layers.Conv2D(32, 3, activation=\"relu\")(x)\n",
    "x = tf.keras.layers.Conv2D(16, 3, activation=\"relu\")(x)\n",
    "x = tf.keras.layers.Flatten()(x)\n",
    "x = tf.keras.layers.Dense(1500, activation='relu')(x)\n",
    "x = tf.keras.layers.Dense(151, activation='relu')(x)\n",
    "x = tf.keras.layers.Dense(17, activation='relu')(x)\n",
    "outputs = tf.keras.layers.Dense(7, activation='softmax')(x)\n",
    "\n",
    "model = tf.keras.Model(inputs=inputs, outputs=outputs, name=\"sEMG-classfier\")\n",
    "model.summary()"
   ]
  },
  {
   "cell_type": "code",
   "execution_count": 7,
   "id": "51d725d2",
   "metadata": {},
   "outputs": [],
   "source": [
    "lr = 0.001\n",
    "opt = tf.keras.optimizers.Adam(learning_rate=lr, epsilon=1e-07, clipnorm=1)\n",
    "ls = 'sparse_categorical_crossentropy'\n",
    "mtr = 'accuracy'\n",
    "n_batches = 32\n",
    "n_epochs = 10\n",
    "model.compile(optimizer=opt, loss=ls, metrics=mtr)"
   ]
  },
  {
   "cell_type": "code",
   "execution_count": 8,
   "id": "098ef05d",
   "metadata": {},
   "outputs": [
    {
     "name": "stdout",
     "output_type": "stream",
     "text": [
      "Epoch 1/10\n",
      "1400/1400 [==============================] - 19s 14ms/step - loss: 0.8855 - accuracy: 0.6480 - val_loss: 0.5863 - val_accuracy: 0.7757\n",
      "Epoch 2/10\n",
      "1400/1400 [==============================] - 18s 13ms/step - loss: 0.4213 - accuracy: 0.8300 - val_loss: 0.4790 - val_accuracy: 0.8183\n",
      "Epoch 3/10\n",
      "1400/1400 [==============================] - 18s 13ms/step - loss: 0.2945 - accuracy: 0.8815 - val_loss: 0.2790 - val_accuracy: 0.8923\n",
      "Epoch 4/10\n",
      "1400/1400 [==============================] - 18s 13ms/step - loss: 0.2228 - accuracy: 0.9124 - val_loss: 0.2636 - val_accuracy: 0.8965\n",
      "Epoch 5/10\n",
      "1400/1400 [==============================] - 18s 13ms/step - loss: 0.1688 - accuracy: 0.9337 - val_loss: 0.3060 - val_accuracy: 0.8869\n",
      "Epoch 6/10\n",
      "1400/1400 [==============================] - 18s 13ms/step - loss: 0.1225 - accuracy: 0.9542 - val_loss: 0.2300 - val_accuracy: 0.9256\n",
      "Epoch 7/10\n",
      "1400/1400 [==============================] - 16s 12ms/step - loss: 0.0989 - accuracy: 0.9644 - val_loss: 0.2787 - val_accuracy: 0.9150\n",
      "Epoch 8/10\n",
      "1400/1400 [==============================] - 17s 12ms/step - loss: 0.0757 - accuracy: 0.9730 - val_loss: 0.3565 - val_accuracy: 0.8969\n",
      "Epoch 9/10\n",
      "1400/1400 [==============================] - 16s 12ms/step - loss: 0.0666 - accuracy: 0.9774 - val_loss: 0.2877 - val_accuracy: 0.9190\n",
      "Epoch 10/10\n",
      "1400/1400 [==============================] - 19s 13ms/step - loss: 0.0523 - accuracy: 0.9818 - val_loss: 0.3700 - val_accuracy: 0.9172\n"
     ]
    }
   ],
   "source": [
    "history = model.fit(XX_train, yy_train, validation_data=(XX_test, yy_test), batch_size=n_batches, epochs= n_epochs)"
   ]
  },
  {
   "cell_type": "code",
   "execution_count": 9,
   "id": "da8e35be",
   "metadata": {},
   "outputs": [
    {
     "data": {
      "image/png": "[encoded data removed]",
      "text/plain": [
       "<Figure size 576x576 with 2 Axes>"
      ]
     },
     "metadata": {
      "needs_background": "light"
     },
     "output_type": "display_data"
    }
   ],
   "source": [
    "validation_loss = history.history['val_loss']\n",
    "training_loss = history.history['loss']\n",
    "\n",
    "validation_accuracy = history.history['accuracy']\n",
    "training_accuracy = history.history['val_accuracy']\n",
    "\n",
    "epoch_range = range(n_epochs)\n",
    "plt.figure(figsize=(8,8))\n",
    "\n",
    "plt.subplot(1, 2, 1)\n",
    "plt.plot(epoch_range, training_accuracy, label = \"Training Accuracy\")\n",
    "plt.plot(epoch_range, validation_accuracy, label = \"Validation Accuracy\")\n",
    "plt.legend(loc=\"lower right\")\n",
    "plt.title(\"Training and Validation Accuracy\")\n",
    "\n",
    "plt.subplot(1, 2, 2)\n",
    "plt.plot(epoch_range, training_loss, label = \"Training Loss\")\n",
    "plt.plot(epoch_range, validation_loss, label = \"Validation Loss\")\n",
    "plt.legend(loc=\"upper right\")\n",
    "plt.title(\"Training and Validation Loss\")\n",
    "plt.show()"
   ]
  }
 ],
 "metadata": {
  "kernelspec": {
   "display_name": "Python 3",
   "language": "python",
   "name": "python3"
  },
  "language_info": {
   "codemirror_mode": {
    "name": "ipython",
    "version": 3
   },
   "file_extension": ".py",
   "mimetype": "text/x-python",
   "name": "python",
   "nbconvert_exporter": "python",
   "pygments_lexer": "ipython3",
   "version": "3.7.10"
  }
 },
 "nbformat": 4,
 "nbformat_minor": 5
}
