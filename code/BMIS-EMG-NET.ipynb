{
 "cells": [
  {
   "cell_type": "code",
   "execution_count": 1,
   "id": "1a1c7558",
   "metadata": {},
   "outputs": [],
   "source": [
    "import tensorflow as tf\n",
    "import numpy as np\n",
    "import matplotlib.pyplot as plt\n",
    "from tensorflow.keras import backend as K\n",
    "from bmis_emg_utils import * \n",
    "from tensorflow_model_optimization.quantization.keras import vitis_quantize"
   ]
  },
  {
   "cell_type": "code",
   "execution_count": 2,
   "id": "ba30c248",
   "metadata": {},
   "outputs": [
    {
     "name": "stdout",
     "output_type": "stream",
     "text": [
      "The total data shape is (8, 332074) and label is (1, 332074)\n"
     ]
    }
   ],
   "source": [
    "subjects = 5\n",
    "data, label = get_emg_data(subjects)\n",
    "print('The total data shape is {} and label is {}'.format(data.shape, label.shape))"
   ]
  },
  {
   "cell_type": "code",
   "execution_count": 3,
   "id": "e46cc043",
   "metadata": {},
   "outputs": [
    {
     "name": "stdout",
     "output_type": "stream",
     "text": [
      "The total Input data shape after windowing is (83009, 8, 40) and label is (83009, 1)\n"
     ]
    }
   ],
   "source": [
    "X, y = window_with_overlap(data, label)\n",
    "print('The total Input data shape after windowing is {} and label is {}'.format(X.shape, y.shape))"
   ]
  },
  {
   "cell_type": "code",
   "execution_count": 4,
   "id": "25056dd3",
   "metadata": {},
   "outputs": [
    {
     "name": "stdout",
     "output_type": "stream",
     "text": [
      "Training Set is(74708, 8, 40) Test Set (8301, 8, 40)\n"
     ]
    }
   ],
   "source": [
    "XX_train, yy_train, XX_test, yy_test = spilt_data(X, y, ratio=0.1)\n",
    "print('Training Set is{} Test Set {}'.format(XX_train.shape, XX_test.shape))"
   ]
  },
  {
   "cell_type": "code",
   "execution_count": 5,
   "id": "afffa9d0",
   "metadata": {},
   "outputs": [
    {
     "name": "stdout",
     "output_type": "stream",
     "text": [
      "Expanded Dimension are (74708, 8, 40, 1)\n",
      "(8, 40, 1)\n"
     ]
    }
   ],
   "source": [
    "# Expanding the input feature shape\n",
    "\n",
    "XX_train = np.expand_dims(XX_train, axis=3)\n",
    "XX_test = np.expand_dims(XX_test, axis=3)\n",
    "print('Expanded Dimension are {}'.format(XX_train.shape))\n",
    "input_size = XX_train.shape[1:]\n",
    "print(input_size)"
   ]
  },
  {
   "cell_type": "code",
   "execution_count": 6,
   "id": "3b5128c0",
   "metadata": {},
   "outputs": [
    {
     "name": "stdout",
     "output_type": "stream",
     "text": [
      "Model: \"sEMG-classfier\"\n",
      "_________________________________________________________________\n",
      "Layer (type)                 Output Shape              Param #   \n",
      "=================================================================\n",
      "input_1 (InputLayer)         [(None, 8, 40, 1)]        0         \n",
      "_________________________________________________________________\n",
      "conv2d (Conv2D)              (None, 6, 38, 6)          60        \n",
      "_________________________________________________________________\n",
      "conv2d_1 (Conv2D)            (None, 4, 36, 32)         1760      \n",
      "_________________________________________________________________\n",
      "conv2d_2 (Conv2D)            (None, 3, 35, 16)         2064      \n",
      "_________________________________________________________________\n",
      "max_pooling2d (MaxPooling2D) (None, 1, 7, 16)          0         \n",
      "_________________________________________________________________\n",
      "dropout (Dropout)            (None, 1, 7, 16)          0         \n",
      "_________________________________________________________________\n",
      "flatten (Flatten)            (None, 112)               0         \n",
      "_________________________________________________________________\n",
      "dense (Dense)                (None, 1500)              169500    \n",
      "_________________________________________________________________\n",
      "dense_1 (Dense)              (None, 151)               226651    \n",
      "_________________________________________________________________\n",
      "dense_2 (Dense)              (None, 17)                2584      \n",
      "_________________________________________________________________\n",
      "dense_3 (Dense)              (None, 7)                 126       \n",
      "=================================================================\n",
      "Total params: 402,745\n",
      "Trainable params: 402,745\n",
      "Non-trainable params: 0\n",
      "_________________________________________________________________\n"
     ]
    }
   ],
   "source": [
    "inputs = tf.keras.Input(shape=input_size)\n",
    "x = tf.keras.layers.Conv2D(6, 3, activation=\"relu\", input_shape=input_size)(inputs)\n",
    "x = tf.keras.layers.Conv2D(32, 3, activation=\"relu\")(x)\n",
    "x = tf.keras.layers.Conv2D(16, 2, activation=\"relu\")(x)\n",
    "# emg_outputs = tf.keras.layers.MaxPooling2D((2,5))(x)\n",
    "x = tf.keras.layers.MaxPooling2D((2,5))(x)\n",
    "#x =  tf.keras.layers.Dropout(0.3)(x)\n",
    "x = tf.keras.layers.Flatten()(x)\n",
    "x = tf.keras.layers.Dense(1500, activation='relu')(x)\n",
    "x = tf.keras.layers.Dense(151, activation='relu')(x)\n",
    "x = tf.keras.layers.Dense(17, activation='relu')(x)\n",
    "outputs = tf.keras.layers.Dense(7, activation='softmax')(x)\n",
    "\n",
    "model = tf.keras.Model(inputs=inputs, outputs=outputs, name=\"sEMG-classfier\")\n",
    "model.summary()"
   ]
  },
  {
   "cell_type": "code",
   "execution_count": 7,
   "id": "51d725d2",
   "metadata": {},
   "outputs": [],
   "source": [
    "lr = 0.001\n",
    "opt = \"nadam\"#tf.keras.optimizers.Adam(learning_rate=lr, epsilon=1e-07, clipnorm=1)\n",
    "ls = 'sparse_categorical_crossentropy'\n",
    "mtr = 'accuracy'\n",
    "n_batches = 32\n",
    "n_epochs = 15\n",
    "model.compile(optimizer=opt, loss=ls, metrics=mtr)\n",
    "K.set_value(model.optimizer.learning_rate, lr)"
   ]
  },
  {
   "cell_type": "code",
   "execution_count": 8,
   "id": "098ef05d",
   "metadata": {},
   "outputs": [
    {
     "name": "stdout",
     "output_type": "stream",
     "text": [
      "Epoch 1/15\n",
      "2335/2335 [==============================] - 15s 6ms/step - loss: 1.4813 - accuracy: 0.3962 - val_loss: 1.0885 - val_accuracy: 0.5807\n",
      "Epoch 2/15\n",
      "2335/2335 [==============================] - 14s 6ms/step - loss: 0.9839 - accuracy: 0.6194 - val_loss: 0.6726 - val_accuracy: 0.7492\n",
      "Epoch 3/15\n",
      "2335/2335 [==============================] - 14s 6ms/step - loss: 0.7507 - accuracy: 0.7125 - val_loss: 0.5160 - val_accuracy: 0.8127\n",
      "Epoch 4/15\n",
      "2335/2335 [==============================] - 16s 7ms/step - loss: 0.6518 - accuracy: 0.7520 - val_loss: 0.4510 - val_accuracy: 0.8350\n",
      "Epoch 5/15\n",
      "2335/2335 [==============================] - 13s 6ms/step - loss: 0.5986 - accuracy: 0.7717 - val_loss: 0.4246 - val_accuracy: 0.8394\n",
      "Epoch 6/15\n",
      "2335/2335 [==============================] - 14s 6ms/step - loss: 0.5610 - accuracy: 0.7863 - val_loss: 0.4337 - val_accuracy: 0.8386\n",
      "Epoch 7/15\n",
      "2335/2335 [==============================] - 14s 6ms/step - loss: 0.5371 - accuracy: 0.7946 - val_loss: 0.3844 - val_accuracy: 0.8616\n",
      "Epoch 8/15\n",
      "2335/2335 [==============================] - 14s 6ms/step - loss: 0.5130 - accuracy: 0.8033 - val_loss: 0.3753 - val_accuracy: 0.8556\n",
      "Epoch 9/15\n",
      "2335/2335 [==============================] - 14s 6ms/step - loss: 0.4959 - accuracy: 0.8107 - val_loss: 0.3392 - val_accuracy: 0.8757\n",
      "Epoch 10/15\n",
      "2335/2335 [==============================] - 14s 6ms/step - loss: 0.4837 - accuracy: 0.8175 - val_loss: 0.3690 - val_accuracy: 0.8617\n",
      "Epoch 11/15\n",
      "2335/2335 [==============================] - 14s 6ms/step - loss: 0.4661 - accuracy: 0.8216 - val_loss: 0.3459 - val_accuracy: 0.8687\n",
      "Epoch 12/15\n",
      "2335/2335 [==============================] - 15s 6ms/step - loss: 0.4577 - accuracy: 0.8247 - val_loss: 0.3084 - val_accuracy: 0.8860\n",
      "Epoch 13/15\n",
      "2335/2335 [==============================] - 16s 7ms/step - loss: 0.4484 - accuracy: 0.8298 - val_loss: 0.3126 - val_accuracy: 0.8857\n",
      "Epoch 14/15\n",
      "2335/2335 [==============================] - 16s 7ms/step - loss: 0.4389 - accuracy: 0.8322 - val_loss: 0.3175 - val_accuracy: 0.8827\n",
      "Epoch 15/15\n",
      "2335/2335 [==============================] - 14s 6ms/step - loss: 0.4349 - accuracy: 0.8329 - val_loss: 0.3089 - val_accuracy: 0.8834\n"
     ]
    }
   ],
   "source": [
    "history = model.fit(XX_train, yy_train, validation_data=(XX_test, yy_test), batch_size=n_batches, epochs= n_epochs)"
   ]
  },
  {
   "cell_type": "code",
   "execution_count": 9,
   "id": "da8e35be",
   "metadata": {},
   "outputs": [
    {
     "data": {
      "image/png": "[encoded data removed]",
      "text/plain": [
       "<Figure size 576x576 with 2 Axes>"
      ]
     },
     "metadata": {
      "needs_background": "light"
     },
     "output_type": "display_data"
    }
   ],
   "source": [
    "validation_loss = history.history['val_loss']\n",
    "training_loss = history.history['loss']\n",
    "\n",
    "validation_accuracy = history.history['accuracy']\n",
    "training_accuracy = history.history['val_accuracy']\n",
    "\n",
    "epoch_range = range(n_epochs)\n",
    "plt.figure(figsize=(8,8))\n",
    "\n",
    "plt.subplot(1, 2, 1)\n",
    "plt.plot(epoch_range, training_accuracy, label = \"Training Accuracy\")\n",
    "plt.plot(epoch_range, validation_accuracy, label = \"Validation Accuracy\")\n",
    "plt.legend(loc=\"lower right\")\n",
    "plt.title(\"Training and Validation Accuracy\")\n",
    "\n",
    "plt.subplot(1, 2, 2)\n",
    "plt.plot(epoch_range, training_loss, label = \"Training Loss\")\n",
    "plt.plot(epoch_range, validation_loss, label = \"Validation Loss\")\n",
    "plt.legend(loc=\"upper right\")\n",
    "plt.title(\"Training and Validation Loss\")\n",
    "plt.show()"
   ]
  },
  {
   "cell_type": "code",
   "execution_count": 10,
   "id": "8c2ce4bc",
   "metadata": {},
   "outputs": [],
   "source": [
    "saved_model = \"EMG-NET-classifier.h5\" \n",
    "model.save(saved_model)"
   ]
  },
  {
   "cell_type": "markdown",
   "id": "208bbec0",
   "metadata": {},
   "source": [
    "4. Quantization"
   ]
  },
  {
   "cell_type": "code",
   "execution_count": 11,
   "id": "1b886e53",
   "metadata": {},
   "outputs": [],
   "source": [
    "calibration_dataset = XX_train[0:1000] # Note a minumum of 100 is needed and a maximum of 1000\n",
    "evaluation_dataset = XX_train[1000:]\n",
    "evaluation_dataset_gnd = yy_train[1000:]"
   ]
  },
  {
   "cell_type": "code",
   "execution_count": 12,
   "id": "a63902b3",
   "metadata": {
    "scrolled": true
   },
   "outputs": [
    {
     "name": "stdout",
     "output_type": "stream",
     "text": [
      "[INFO] Start CrossLayerEqualization...\n",
      "10/10 [==============================] - 0s 48ms/step\n",
      "[INFO] CrossLayerEqualization Done.\n",
      "[INFO] Start Quantize Calibration...\n",
      "20/20 [==============================] - 1s 26ms/step\n",
      "[INFO] Quantize Calibration Done.\n",
      "[INFO] Start Generating Quantized Model...\n",
      "[Warning] Skip quantize pos adjustment for layer quant_dense, its quantize pos is [i=None, w=7.0, b=7.0, o=5.0]\n",
      "[INFO] Generating Quantized Model Done.\n"
     ]
    }
   ],
   "source": [
    "saved_float32_model = tf.keras.models.load_model(saved_model)\n",
    "ptq_quantizer = vitis_quantize.VitisQuantizer(saved_float32_model)\n",
    "ptq_quantized_model = ptq_quantizer.quantize_model(calib_dataset=calibration_dataset)"
   ]
  },
  {
   "cell_type": "code",
   "execution_count": 13,
   "id": "ce9be5d9",
   "metadata": {
    "scrolled": true
   },
   "outputs": [
    {
     "name": "stdout",
     "output_type": "stream",
     "text": [
      "2304/2304 [==============================] - 10s 4ms/step - loss: 0.2601 - accuracy: 0.9062\n"
     ]
    },
    {
     "data": {
      "text/plain": [
       "[0.260125994682312, 0.9061838388442993]"
      ]
     },
     "execution_count": 13,
     "metadata": {},
     "output_type": "execute_result"
    }
   ],
   "source": [
    "ptq_quantized_model.compile(loss=ls, metrics=mtr)\n",
    "ptq_quantized_model.evaluate(evaluation_dataset, evaluation_dataset_gnd)"
   ]
  },
  {
   "cell_type": "code",
   "execution_count": 14,
   "id": "b7020bea",
   "metadata": {},
   "outputs": [],
   "source": [
    "# Saving post training quantization\n",
    "\n",
    "quantized_model = \"qunatized-EMG-NET-classifier.h5\"\n",
    "ptq_quantized_model.save(quantized_model)"
   ]
  },
  {
   "cell_type": "markdown",
   "id": "668b4abb",
   "metadata": {},
   "source": [
    "5. Compiling"
   ]
  },
  {
   "cell_type": "code",
   "execution_count": 15,
   "id": "59728a6f",
   "metadata": {},
   "outputs": [
    {
     "name": "stdout",
     "output_type": "stream",
     "text": [
      "**************************************************\n",
      "* VITIS_AI Compilation - Xilinx Inc.\n",
      "**************************************************\n",
      "[INFO] Namespace(inputs_shape=None, layout='NHWC', model_files=['./qunatized-EMG-NET-classifier.h5'], model_type='tensorflow2', out_filename='./model_org.xmodel', proto=None)\n",
      "[INFO] tensorflow2 model: qunatized-EMG-NET-classifier.h5\n",
      "/opt/vitis_ai/conda/envs/vitis-ai-tensorflow2/lib/python3.7/site-packages/xnnc/translator/tensorflow_translator.py:1809: H5pyDeprecationWarning: dataset.value has been deprecated. Use dataset[()] instead.\n",
      "  value = param.get(group).get(ds).value\n",
      "[INFO] parse raw model     :100%|█| 11/11 [00:00<00:00, 14797.10it/s]           \n",
      "[INFO] infer shape (NHWC)  :100%|█| 34/34 [00:00<00:00, 28630.06it/s]           \n",
      "[OPT] No optimization method available for xir-level optimization.\n",
      "[INFO] generate xmodel     :100%|█| 34/34 [00:00<00:00, 964.53it/s]             \n",
      "[INFO] generate xmodel: /workspace/sEMG/sEMG_Classification/BMIS_EMG_DATA/model_org.xmodel\n",
      "[UNILOG][INFO] The compiler log will be dumped at \"/tmp/vitis-ai-user/log/xcompiler-20220512-042936-9526\"\n",
      "[UNILOG][INFO] Compile mode: dpu\n",
      "[UNILOG][INFO] Debug mode: function\n",
      "[UNILOG][INFO] Target architecture: DPUCZDX8G_ISA0_B2304_MAX_BG2\n",
      "[UNILOG][INFO] Graph name: sEMG-classfier, with op num: 54\n",
      "[UNILOG][INFO] Begin to compile...\n",
      "[UNILOG][INFO] Total device subgraph number 3, DPU subgraph number 1\n",
      "[UNILOG][INFO] Compile done.\n",
      "[UNILOG][INFO] The meta json is saved to \"/workspace/sEMG/sEMG_Classification/BMIS_EMG_DATA/./meta.json\"\n",
      "[UNILOG][INFO] The compiled xmodel is saved to \"/workspace/sEMG/sEMG_Classification/BMIS_EMG_DATA/./model.xmodel\"\n",
      "[UNILOG][INFO] The compiled xmodel's md5sum is 3c9a21d5dd15480171e5864e2245fe79, and been saved to \"/workspace/sEMG/sEMG_Classification/BMIS_EMG_DATA/./md5sum.txt\"\n"
     ]
    }
   ],
   "source": [
    "!vai_c_tensorflow2 \\\n",
    "    --model ./qunatized-EMG-NET-classifier.h5 \\\n",
    "    --arch ./arch.json \\\n",
    "    --output_dir . \\\n",
    "    --net_name model"
   ]
  }
 ],
 "metadata": {
  "kernelspec": {
   "display_name": "Python 3",
   "language": "python",
   "name": "python3"
  },
  "language_info": {
   "codemirror_mode": {
    "name": "ipython",
    "version": 3
   },
   "file_extension": ".py",
   "mimetype": "text/x-python",
   "name": "python",
   "nbconvert_exporter": "python",
   "pygments_lexer": "ipython3",
   "version": "3.7.10"
  }
 },
 "nbformat": 4,
 "nbformat_minor": 5
}
